{
 "cells": [
  {
   "cell_type": "markdown",
   "id": "1f516820-a00a-4983-8d4b-d6d160e9ffc8",
   "metadata": {},
   "source": [
    "#  *Git Command Cheat Sheet*"
   ]
  },
  {
   "cell_type": "markdown",
   "id": "353c7a31-3f83-465c-9a2a-5e3c01113fc6",
   "metadata": {},
   "source": [
    "### \"master\" vs \"main\" — What's the difference?"
   ]
  },
  {
   "cell_type": "markdown",
   "id": "c29a8953-1040-4862-8ba5-80658af0c362",
   "metadata": {},
   "source": [
    "##### Both master and main are just names of the default branch in a Git repository.\n",
    "##### They represent the main line of development — the version of your project that’s most up to date."
   ]
  },
  {
   "cell_type": "markdown",
   "id": "6446e597-cec5-48d3-9753-8245e257d97e",
   "metadata": {},
   "source": [
    "##  Setup & Configuration"
   ]
  },
  {
   "cell_type": "code",
   "execution_count": null,
   "id": "982fc634-1a90-412e-a0b2-5ae4546f99f1",
   "metadata": {},
   "outputs": [],
   "source": [
    "git config --global user.name \"Your Name\"\n",
    "git config --global user.email \"you@example.com\"\n",
    "git config --global core.editor code     # Set VS Code as default editor"
   ]
  },
  {
   "cell_type": "markdown",
   "id": "8b2a8a4b-648b-4c5c-bd63-cf883f2cfe32",
   "metadata": {},
   "source": [
    "## Initialize a Repository"
   ]
  },
  {
   "cell_type": "code",
   "execution_count": null,
   "id": "584df40e-99a4-46ee-9c8a-5ad278726010",
   "metadata": {},
   "outputs": [],
   "source": [
    "git init                         # Initialize a new git repository"
   ]
  },
  {
   "cell_type": "markdown",
   "id": "b523da8d-00b3-4061-9509-b4cf2976698d",
   "metadata": {},
   "source": [
    "## Add remote GitHub repository URL"
   ]
  },
  {
   "cell_type": "code",
   "execution_count": null,
   "id": "0187cd71-b83e-40e1-a185-ba0e5104d32c",
   "metadata": {},
   "outputs": [],
   "source": [
    "git remote add origin https://github.com/your-username/your-repo.git"
   ]
  },
  {
   "cell_type": "markdown",
   "id": "ce6524ad-9ec1-465f-a65e-a266ca3d7179",
   "metadata": {},
   "source": [
    "## Basic Workflow"
   ]
  },
  {
   "cell_type": "code",
   "execution_count": null,
   "id": "b33f9eb7-3479-451f-acf5-eaafcc83d044",
   "metadata": {},
   "outputs": [],
   "source": [
    "git status                       # Show the status of changes\n",
    "git add <file>                   # Stage a file\n",
    "git add .                        # Stage all files\n",
    "git commit -m \"your message\"     # Commit staged changes"
   ]
  },
  {
   "cell_type": "markdown",
   "id": "5238d020-c9af-4201-ba5d-ff79e690f15e",
   "metadata": {},
   "source": [
    "## Remote Repositories"
   ]
  },
  {
   "cell_type": "code",
   "execution_count": null,
   "id": "22b2ad35-f757-469f-9dc0-c95d6d7805f7",
   "metadata": {},
   "outputs": [],
   "source": [
    "git remote add origin <url>      # Add remote repository\n",
    "git remote -v                    # List remotes\n",
    "git push -u origin main          # Push for the first time\n",
    "git push                         # Push to remote\n",
    "git pull                         # Pull latest changes\n",
    "git clone <url>                  # Clone a remote repository"
   ]
  },
  {
   "cell_type": "markdown",
   "id": "3bcdeae6-83ed-4286-8da9-6a23fe838377",
   "metadata": {},
   "source": [
    "## Branching"
   ]
  },
  {
   "cell_type": "markdown",
   "id": "b8922b11-334c-4aa6-b3ef-38fd90ca269b",
   "metadata": {},
   "source": [
    "##### In GitHub (and Git in general), a branch is like a separate workspace or version of your code where you can work on changes without affecting the main codebase."
   ]
  },
  {
   "cell_type": "code",
   "execution_count": null,
   "id": "ff930436-32c7-412e-8f7d-aca5fc644a79",
   "metadata": {},
   "outputs": [],
   "source": [
    "git branch                       # List branches\n",
    "git branch <branch-name>         # Create a new branch\n",
    "git checkout <branch-name>       # Switch to a branch\n",
    "git checkout -b <branch-name>    # Create and switch to new branch\n",
    "git merge <branch-name>          # Merge a branch into current\n",
    "git branch -d <branch-name>      # Delete a branch"
   ]
  },
  {
   "cell_type": "markdown",
   "id": "0032eaa8-05f2-4d9c-8f27-c307eab3751e",
   "metadata": {},
   "source": [
    "#### In simple terms:\n",
    "#### A branch allows you to:\n",
    "\n",
    "#### Work on a new feature\n",
    "\n",
    "#### Fix a bug\n",
    "\n",
    "#### Experiment safely\n",
    "#### — without touching the main (usually main or master) version of the project."
   ]
  },
  {
   "cell_type": "markdown",
   "id": "3e6cf455-5494-445b-a29c-239fedd0d7bb",
   "metadata": {},
   "source": [
    "## History & Logs"
   ]
  },
  {
   "cell_type": "code",
   "execution_count": null,
   "id": "2bcc71bd-3d94-40d6-b27d-8b96f1fefc83",
   "metadata": {},
   "outputs": [],
   "source": [
    "git log                          # Full history\n",
    "git log --oneline                # Compact history\n",
    "git show <commit>                # Show a specific commit\n",
    "git diff                         # Show unstaged changes\n",
    "git diff --staged                # Show staged changes"
   ]
  },
  {
   "cell_type": "markdown",
   "id": "a348a15e-4e79-4e9c-b139-03b956a7d7e2",
   "metadata": {},
   "source": [
    "## Undo Changes"
   ]
  },
  {
   "cell_type": "code",
   "execution_count": null,
   "id": "c2fd70ac-c4b6-4e18-8bf7-e5cd5eefb0b4",
   "metadata": {},
   "outputs": [],
   "source": [
    "git restore <file>              # Undo unstaged changes\n",
    "git restore --staged <file>     # Unstage a file\n",
    "git reset HEAD <file>           # Also unstages file\n",
    "git reset --hard HEAD           # Revert all changes (Caution!)"
   ]
  },
  {
   "cell_type": "markdown",
   "id": "9c20db0d-5688-4638-be13-0926acdb4954",
   "metadata": {},
   "source": [
    "## Rewriting History"
   ]
  },
  {
   "cell_type": "code",
   "execution_count": null,
   "id": "f06d1c9d-7299-414d-862b-9f23acd8d441",
   "metadata": {},
   "outputs": [],
   "source": [
    "git commit --amend              # Modify the last commit\n",
    "git rebase -i HEAD~n            # Interactive rebase\n"
   ]
  },
  {
   "cell_type": "markdown",
   "id": "1d73d0fe-12c5-45b3-a397-1c899e926988",
   "metadata": {},
   "source": [
    "## Stashing Work"
   ]
  },
  {
   "cell_type": "code",
   "execution_count": null,
   "id": "9ebbc29b-1734-4087-a0a3-de2b0dce033e",
   "metadata": {},
   "outputs": [],
   "source": [
    "git stash                       # Save uncommitted changes\n",
    "git stash list                  # List stashed changes\n",
    "git stash pop                   # Apply and remove latest stash\n"
   ]
  },
  {
   "cell_type": "markdown",
   "id": "4a54fc0a-93ba-4167-9641-a1ea036cce7e",
   "metadata": {},
   "source": [
    "## Tagging"
   ]
  },
  {
   "cell_type": "code",
   "execution_count": null,
   "id": "690c4d0a-cf62-4dc0-bad7-dc7f13dc4bad",
   "metadata": {},
   "outputs": [],
   "source": [
    "git tag                         # List tags\n",
    "git tag v1.0.0                  # Create a tag\n",
    "git push origin v1.0.0          # Push a tag\n"
   ]
  },
  {
   "cell_type": "markdown",
   "id": "b728fddd-d7e0-4591-bbbd-465d450ce8c9",
   "metadata": {},
   "source": [
    "## Remove Files"
   ]
  },
  {
   "cell_type": "code",
   "execution_count": null,
   "id": "a8e0cc84-e88b-47bf-9813-6bf9af4ae638",
   "metadata": {},
   "outputs": [],
   "source": [
    "git rm <file>                   # Remove file and stage deletion\n",
    "git rm --cached <file>          # Keep file locally, remove from Git\n"
   ]
  },
  {
   "cell_type": "markdown",
   "id": "70f85c47-fe41-42c0-bae2-dbe2e525d8be",
   "metadata": {},
   "source": [
    "## Miscellaneous"
   ]
  },
  {
   "cell_type": "code",
   "execution_count": null,
   "id": "38b8e019-1d16-4042-ab74-172ca5f478ac",
   "metadata": {},
   "outputs": [],
   "source": [
    "git help                        # General help\n",
    "git help <command>              # Help for specific command\n"
   ]
  }
 ],
 "metadata": {
  "kernelspec": {
   "display_name": "Python 3 (ipykernel)",
   "language": "python",
   "name": "python3"
  },
  "language_info": {
   "codemirror_mode": {
    "name": "ipython",
    "version": 3
   },
   "file_extension": ".py",
   "mimetype": "text/x-python",
   "name": "python",
   "nbconvert_exporter": "python",
   "pygments_lexer": "ipython3",
   "version": "3.13.0"
  }
 },
 "nbformat": 4,
 "nbformat_minor": 5
}
